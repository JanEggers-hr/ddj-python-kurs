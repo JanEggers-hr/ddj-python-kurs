{
  "cells": [
    {
      "cell_type": "markdown",
      "metadata": {
        "id": "view-in-github",
        "colab_type": "text"
      },
      "source": [
        "<a href=\"https://colab.research.google.com/github/JanEggers-hr/ddj-python-kurs/blob/main/Katharina_Paul_Gasverbrauch.ipynb\" target=\"_parent\"><img src=\"https://colab.research.google.com/assets/colab-badge.svg\" alt=\"Open In Colab\"/></a>"
      ]
    },
    {
      "cell_type": "markdown",
      "metadata": {
        "id": "xBg6ws6BIRPL"
      },
      "source": [
        "# Gasverbrauch-Daten aufbereiten\n",
        "\n",
        "Die Bundesnetzagentur stellt auf dieser Seite wöchentlich Verbrauchsdaten für private Haushalte/Gewerbe und Industrie zur Verfügung - daraus wollen wir mit einem automatisierten Skript eine Grafik des Verbrauchs im Vergleich zum Schnitt der Vorjahre ausgeben. \n",
        "\n",
        "Folgende Schritte muss das Python-Skript gehen: \n",
        "- Lies die CSV-Dateien für den Verbrauch je Woche ein\n",
        "- Führe die Dateien zusammen\n",
        "- Berechne die Abweichung vom Mittel der Vorjahre (pro Woche und kumulativ)\n",
        "- Aktualisiere eine Datawrapper-Grafik über die API \n",
        "\n",
        "Als Vorbild dient uns [dieses Colab-Notebook]() von Jan, das RKI-Corona-Daten aufarbeitet. \n",
        "\n",
        "CC-BY Jan Eggers mit Paul Bartmuß und Katharina Bellgardt-Karis"
      ]
    },
    {
      "cell_type": "code",
      "source": [
        "!pip install datawrapper"
      ],
      "metadata": {
        "id": "JHT0VQ61ab-6"
      },
      "execution_count": null,
      "outputs": []
    },
    {
      "cell_type": "markdown",
      "metadata": {
        "id": "mcLfkkxGIRPN"
      },
      "source": [
        "## Vorbereitung: Bibliotheken laden\n",
        "Zusatzpakete statten Python mit Fähigkeiten zur Ein- und Ausgabe aus. Sie müssen in der jeweiligen Python-Umgebung installiert sein - wenn sie das nicht sind, muss man einmal auf die Kommandozeile und beispielsweise mit dem Befehl\n",
        "```conda install pandas```\n",
        "das Pandas-Paket installieren, das wir für Tabellen (\"Dataframes\") brauchen. \n",
        "\n",
        "(Wer Updates für ein Paket einspielen will, nutzt dazu den Befehl ```conda update ...``` oder einfach  ```conda update --all```)"
      ]
    },
    {
      "cell_type": "code",
      "execution_count": null,
      "metadata": {
        "id": "LbwgxhusIRPP"
      },
      "outputs": [],
      "source": [
        "import pandas as pd\n",
        "import numpy as np\n",
        "from datawrapper import Datawrapper"
      ]
    },
    {
      "cell_type": "markdown",
      "metadata": {
        "id": "QtfIaVvwIRPQ"
      },
      "source": [
        "Den obigen Textblock ausgeführt - und nichts ist passiert? Dann hat alles geklappt - und wir können loslegen. \n",
        "\n",
        "## CSV-Datensatz vom RKI einlesen\n",
        "Wir lesen die CSV-Datei des RKI aus: \n",
        "\n",
        "Die Datei\n",
        "* https://github.com/robert-koch-institut/SARS-CoV-2_Infektionen_in_Deutschland\n",
        "\n",
        "laden wir und schauen sie uns danach kurz an.\n",
        "\n",
        "Die Datei ist ein Feld-Wald-und-Wiesen-CSV: \n",
        "- Als Trennzeichen wird das Komma (\",\") verwendet, das keine Probleme mit Kommazahlen bereitet\n",
        "- Text ist in Anführungszeichen - und er enthält auch keine Steuerzeichen für Zeilensprünge, die gerne für Chaos sorgen\n",
        "- Der Zeichensatz der Datei ist UTF-8 - im Universal-Format gibt es keine Probleme mit Umlauten etc. "
      ]
    },
    {
      "cell_type": "code",
      "execution_count": null,
      "metadata": {
        "id": "IRRjOAntIRPR"
      },
      "outputs": [],
      "source": [
        "url = \"https://www.bundesnetzagentur.de/_tools/SVG/js2/_functions/csv_export.html?view=renderCSV&id=1081208\"\n",
        "\n",
        "bna_df = pd.read_csv(url,sep=\";\")\n",
        "bna_df = bna_df.rename(columns={\".\":\"KW\"})\n",
        "bna_df.head(12)"
      ]
    },
    {
      "cell_type": "markdown",
      "metadata": {
        "id": "8l6HonBaIRPS"
      },
      "source": [
        "** Beschreiben **\n",
        "\n",
        "Was ist im Dataframe eigentlich drin?\n"
      ]
    },
    {
      "cell_type": "code",
      "execution_count": null,
      "metadata": {
        "id": "ariTi2nWIRPT"
      },
      "outputs": [],
      "source": [
        "bna_df.describe()"
      ]
    },
    {
      "cell_type": "markdown",
      "metadata": {
        "id": "V5NA1la0IRPT"
      },
      "source": [
        "**Filtern**\n",
        "\n",
        "Nur das Bundesland oder, alternativ, nur einen Kreis."
      ]
    },
    {
      "cell_type": "code",
      "execution_count": null,
      "metadata": {
        "id": "qqsHTFp0IRPT"
      },
      "outputs": [],
      "source": [
        "#rki_hessen_df = rki_df.query(\"Bundesland == 'Hessen'\")\n",
        "rki_hessen_df = rki_df.loc[(rki_df[\"IdLandkreis\"] >= 6000) & (rki_df[\"IdLandkreis\"]< 7000)]\n",
        "rki_hessen_df.head(5)"
      ]
    },
    {
      "cell_type": "markdown",
      "metadata": {
        "id": "f2Hs4UmjIRPU"
      },
      "source": [
        "Etwas nacharbeiten: \n",
        "- Die Spalten `Meldedatum` und `RefDatum` in ordentliche Datumsangaben umformatieren\n",
        "- Die Spalte `IdLandkreis` von einer Zahl in einen String umwandeln - mit führender Null"
      ]
    },
    {
      "cell_type": "code",
      "execution_count": null,
      "metadata": {
        "id": "zJ77YeyIIRPW"
      },
      "outputs": [],
      "source": [
        "from datetime import date, timedelta\n",
        "from dateutil.parser import parse\n",
        "\n",
        "for i in rki_hessen_df.index:\n",
        "    rki_hessen_df.loc[i,'IdLandkreis'] = \"0\"+str(rki_hessen_df.IdLandkreis[i])\n",
        "    rki_hessen_df.loc[i,'Meldedatum'] = parse(rki_hessen_df.Meldedatum[i]).date()\n",
        "    rki_hessen_df.loc[i,'Refdatum'] = parse(rki_hessen_df.Refdatum[i]).date()\n",
        "    \n",
        "rki_hessen_df.head(5)"
      ]
    },
    {
      "cell_type": "markdown",
      "metadata": {
        "id": "h0CCQNY7IRPW"
      },
      "source": [
        "**Tabelle pivotieren**: Hessische Fälle nehmen, Neufälle filtern (Variable NeuerFall muss 0 oder 1 sein), nach Meldedatum aufsummieren (das Argument `aggfunc=np.sum` bestimmt, dass als Funktion zum Aggregieren die Summe der Werte berechnet wird)"
      ]
    },
    {
      "cell_type": "code",
      "execution_count": null,
      "metadata": {
        "id": "pTauo38ZIRPX"
      },
      "outputs": [],
      "source": [
        "mein_df = rki_hessen_df.query(\"NeuerFall in  (0,1)\")\n",
        "neufaelle_df = pd.pivot_table(mein_df,index=[\"Meldedatum\"],values=[\"AnzahlFall\"],aggfunc=np.sum)\n",
        "neufaelle_df.head(5)"
      ]
    },
    {
      "cell_type": "markdown",
      "metadata": {
        "id": "8b6yg38WIRPX"
      },
      "source": [
        "**Nach Altersgruppen aufsummieren** - ein Pivot nach Meldedatum über die Altersgruppen als Spalten, den Summen (aggfunc) der Fallzahlen. "
      ]
    },
    {
      "cell_type": "code",
      "execution_count": null,
      "metadata": {
        "id": "HPJg73NhIRPX"
      },
      "outputs": [],
      "source": [
        "datum = date.today() - timedelta(days=7)\n",
        "datum"
      ]
    },
    {
      "cell_type": "code",
      "execution_count": null,
      "metadata": {
        "id": "yXDq8X2-IRPY"
      },
      "outputs": [],
      "source": [
        "mein_df = rki_hessen_df.loc[rki_hessen_df[\"Meldedatum\"] >= datum]\n",
        "faelle_nach_alter_df = pd.pivot_table(mein_df,index=[\"Meldedatum\"],columns=[\"Altersgruppe\"],values=[\"AnzahlFall\"],aggfunc=np.sum,fill_value = 0)\n",
        "faelle_nach_alter_df.head(5)"
      ]
    },
    {
      "cell_type": "markdown",
      "metadata": {
        "id": "UK1B_R8YIRPZ"
      },
      "source": [
        "## Tabelle als Excel-Datei ausgeben\n",
        "Und jetzt hätten wir das Ganze gerne wieder als Excel-Datei. Das ist zum Glück einfach.\n",
        "\n",
        "Die Parameter sagen: Spaltennamen mit in die Tabelle schreiben, auch den Index (das Datum). Und Zahlen mit Komma ausgeben! Alle Formatierungsbefehle für `to_excel` finden sich [in der Pandas-Dokumentation.](https://pandas.pydata.org/pandas-docs/stable/reference/api/pandas.DataFrame.to_excel.html) "
      ]
    },
    {
      "cell_type": "markdown",
      "metadata": {
        "id": "qQ7-Ksr5IRPa"
      },
      "source": [
        "**Nur Mut! Man kann nichts kaputt machen!**"
      ]
    },
    {
      "cell_type": "code",
      "execution_count": null,
      "metadata": {
        "id": "aps6wptrIRPa"
      },
      "outputs": [],
      "source": [
        "dw = Datawrapper(access_token = \"yyEPvbLs4C20dQAoBi3zm3RpcvPxHaXbHLDJD5PZuDF8TGOilDYHwa0xJAjHeKyu\")\n",
        "dw"
      ]
    },
    {
      "cell_type": "markdown",
      "source": [
        "Wie man die Datawrapper-Library in Python benutzt, verrät uns https://blog.datawrapper.de/datawrapper-python-package/\n"
      ],
      "metadata": {
        "id": "3qKSJ0fta4PR"
      }
    },
    {
      "cell_type": "code",
      "source": [
        "dw.add_data(\"eVj1E\",bna_df)"
      ],
      "metadata": {
        "id": "vUfRIEd4b0I8"
      },
      "execution_count": null,
      "outputs": []
    }
  ],
  "metadata": {
    "kernelspec": {
      "display_name": "Python 3 (ipykernel)",
      "language": "python",
      "name": "python3"
    },
    "language_info": {
      "codemirror_mode": {
        "name": "ipython",
        "version": 3
      },
      "file_extension": ".py",
      "mimetype": "text/x-python",
      "name": "python",
      "nbconvert_exporter": "python",
      "pygments_lexer": "ipython3",
      "version": "3.8.13"
    },
    "colab": {
      "provenance": [],
      "include_colab_link": true
    }
  },
  "nbformat": 4,
  "nbformat_minor": 0
}