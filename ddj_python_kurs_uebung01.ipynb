{
  "nbformat": 4,
  "nbformat_minor": 0,
  "metadata": {
    "colab": {
      "provenance": [],
      "authorship_tag": "ABX9TyMXHfSZLtShauG5s4o6NBAR",
      "include_colab_link": true
    },
    "kernelspec": {
      "name": "python3",
      "display_name": "Python 3"
    },
    "language_info": {
      "name": "python"
    }
  },
  "cells": [
    {
      "cell_type": "markdown",
      "metadata": {
        "id": "view-in-github",
        "colab_type": "text"
      },
      "source": [
        "<a href=\"https://colab.research.google.com/github/JanEggers-hr/ddj-python-kurs/blob/main/ddj_python_kurs_uebung01.ipynb\" target=\"_parent\"><img src=\"https://colab.research.google.com/assets/colab-badge.svg\" alt=\"Open In Colab\"/></a>"
      ]
    },
    {
      "cell_type": "markdown",
      "source": [
        "# Mein erstes (Colab)-Notebook\n",
        "\n",
        "Das hier ist lauffähiger Programm-Code, eingebettet in Erklärtexte: ein so genanntes Python-\"Notebook\". \n",
        "\n",
        "Notebooks sind toll: Man kann nicht nur Schritt für Schritt erklären, was der Code tut - man kann es auch sehen; auch die Ausgaben des Computers werden im Notebook festgehalten. \n",
        "\n",
        "Und man kann sie einfach in einer \"Colab\"-Umgebung ausführen, wie Google sie bereitstellt: ein virtueller Computer in der Cloud, auf dem alles schon installiert ist und läuft. \n",
        "\n",
        "*Anmerkung: Die Supatopcheckerbunnies dürfen sich natürlich trotzdem noch eine Python-Umgebung wie Anaconda auf dem eigenen Power-Laptop installieren. Dort kann man ein Notebook mit dem Programm juPyter ausführen. Also, den juPyter-Server starten, und dann...*"
      ],
      "metadata": {
        "id": "cBXbBXDpvUNy"
      }
    },
    {
      "cell_type": "code",
      "execution_count": null,
      "metadata": {
        "id": "wzXLoLYYvSi8"
      },
      "outputs": [],
      "source": [
        "# Der Code ROT13: Eine einfache Methode, um Text vor Menschen zu verstecken. \n",
        "def rot13(sentence):\n",
        "    d = {}\n",
        "    for ascii_code in (65, 97):\n",
        "        for alphabet_index in range(26):\n",
        "            d[chr(ascii_code + alphabet_index)] = \\\n",
        "                        chr(ascii_code + (alphabet_index + 13) % 26)\n",
        "    return ''.join([d.get(letter, letter) for letter in sentence])\n",
        "\n",
        "# Was tut dieses Programm? Völlig egal! Um es auszuführen, muss ich das nicht wissen.\n",
        "print(rot13(\"Cevzn, frue thg trznpug! Pbyno-Abgrobbx nhfsüuera: Purpx.\"))\n",
        "print(rot13(\"Gentr wrgmg ovggr va qrz Sryq hagre qvrfrz Grkg - qre aäpufgra Mryyr - qrvara Anzra rva.\"))"
      ]
    },
    {
      "cell_type": "markdown",
      "source": [
        "Doppelklick auf die Zelle - dann kannst du sie bearbeiten. \n",
        "\n",
        "----\n",
        "(Hier ist Platz für deine Notizen)\n",
        "\n",
        "----\n",
        "\n",
        "Die Text-Zellen enthalten so genanntes [Markdown](https://www.heise.de/mac-and-i/downloads/65/1/1/6/7/1/0/3/Markdown-CheatSheet-Deutsch.pdf) - eine einfache Form, Texte zu formatieren und so Dinge wie Links unterzubringen (hier einen zur Markdown-Erklärseite der Computerzeitschrift \"Mac and I\". )\n",
        "\n",
        "## Mein erstes Python-Programm\n",
        "\n",
        "Dieser Code schreibt 20 Zeilen Text, mit einer Leerzeile nach jeder 10. Zeile. \n",
        "\n",
        "- Probiere ihn aus. \n",
        "- Ändere ihn so ab, dass er schon nach jeder 5. Zeile eine Leerzeile ausgibt. "
      ],
      "metadata": {
        "id": "PHNsjAECw-Af"
      }
    },
    {
      "cell_type": "code",
      "source": [
        "for i in range(20):\n",
        "  print(\"Das ist Zeile \",i)\n",
        "  if i % 10 == 0: \n",
        "    print()\n"
      ],
      "metadata": {
        "id": "MkxnARY5znFR"
      },
      "execution_count": null,
      "outputs": []
    },
    {
      "cell_type": "markdown",
      "source": [
        "## Fehlersuche\n",
        "\n",
        "Warum funktioniert das hier nicht wie gewohnt?"
      ],
      "metadata": {
        "id": "XGq93v7C0xyc"
      }
    },
    {
      "cell_type": "code",
      "source": [
        "for i in range(30):\n",
        "print(\"Die Quadratzahl von\",i,\"ist\",i * i)"
      ],
      "metadata": {
        "id": "DM-jynl7018n"
      },
      "execution_count": null,
      "outputs": []
    }
  ]
}