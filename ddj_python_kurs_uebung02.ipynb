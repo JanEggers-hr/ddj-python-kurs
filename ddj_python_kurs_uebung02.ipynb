{
  "nbformat": 4,
  "nbformat_minor": 0,
  "metadata": {
    "colab": {
      "provenance": [],
      "authorship_tag": "ABX9TyNv8KOM1GzALivXRyvdDKuj",
      "include_colab_link": true
    },
    "kernelspec": {
      "name": "python3",
      "display_name": "Python 3"
    },
    "language_info": {
      "name": "python"
    }
  },
  "cells": [
    {
      "cell_type": "markdown",
      "metadata": {
        "id": "view-in-github",
        "colab_type": "text"
      },
      "source": [
        "<a href=\"https://colab.research.google.com/github/JanEggers-hr/ddj-python-kurs/blob/main/ddj_python_kurs_uebung02.ipynb\" target=\"_parent\"><img src=\"https://colab.research.google.com/assets/colab-badge.svg\" alt=\"Open In Colab\"/></a>"
      ]
    },
    {
      "cell_type": "markdown",
      "source": [
        "# Übung 02: Python erweitern \n",
        "\n",
        "**Jede wirklich schwere Programmier-Aufgabe ist mit hoher Wahrscheinlichkeit schon mal irgendwo gelöst.**   \n",
        "\n",
        "Python hat einen Mechanismus, um die Programmier-Lösungen anderer Menschen einzubinden: Bibliotheken. \n",
        "\n",
        "# Nehmen wir zum Beispiel das Problem, mit einem Datum umzugehen - und zwei Daten zu vergleichen. "
      ],
      "metadata": {
        "id": "cBXbBXDpvUNy"
      }
    },
    {
      "cell_type": "markdown",
      "source": [
        "Das folgende Programm soll ein Datum abfragen - in einer bestimmten Form. Wie überprüfen wir, ob es ein Datum ist?\n",
        "\n",
        "Das hier funktioniert nicht, weil die Funktion ```erlaubt(d)``` nicht herausfindet, ob etwas ein erlaubtes Datum ist, sondern immer False zurückgibt - die Schleife läuft, bis wir sie abbrechen. "
      ],
      "metadata": {
        "id": "1hRosREoIaDI"
      }
    },
    {
      "cell_type": "code",
      "source": [
        "# Das hier funktioniert natürlich nicht. \n",
        "def erlaubt(d):\n",
        "  istDatum = False\n",
        "  return(istDatum)\n",
        "\n",
        "\n",
        "text = \"\"\n",
        "while text != \"zulässig\":\n",
        "  datum = input(\"Gib ein Datum ein (in der Form 2023-03-28) \")\n",
        "  if (erlaubt(datum)):\n",
        "    text = \"zulässig\"\n",
        "  else:\n",
        "    text = \"nicht zulässig\"\n",
        "  print(datum,\" ist als Datum \",text)"
      ],
      "metadata": {
        "id": "MkxnARY5znFR"
      },
      "execution_count": null,
      "outputs": []
    },
    {
      "cell_type": "markdown",
      "source": [
        "## Python lernt Daten\n",
        "\n",
        "Jetzt rüsten wir unser Python-Programm auf - mit der Bibliothek ```datetime```. Die enthält eine Funktion namens ```strptime()``` (\"StringParseTime\"), die einen String - eine Zeichenkette - in ein datetime-Objekt umwandelt. (Was Objekte sind? Mehr dazu ein andermal. Hier stellen wir es uns wie eine Schuhschachtel für einen bestimmten Typ Schuhe vor.)  "
      ],
      "metadata": {
        "id": "XGq93v7C0xyc"
      }
    },
    {
      "cell_type": "code",
      "source": [
        "# datetime-Objekte importieren: \n",
        "# hier fehlt was!\n",
        "\n",
        "# Jetzt gibt es zwei neue Objekte: \n",
        "# datetime - ein \"Schuhkarton\" für Datum und Zeitangabe\n",
        "# date - ein Schuhkarton nur für das Datum\n",
        "\n",
        "\n",
        "\n",
        "def erlaubt(d):\n",
        "  try:\n",
        "    istDatum = datetime.strptime(d,\"%Y-%m-%d\")\n",
        "    # Gib ein Datums-Objekt zurück\n",
        "    return(istDatum.date())\n",
        "  except: \n",
        "    return(False)\n",
        "\n",
        "print(erlaubt(\"2022-03-05\"))\n",
        "print(erlaubt(\"12.03.2023\"))\n",
        "print(erlaubt(\"Horst\"))\n"
      ],
      "metadata": {
        "id": "DM-jynl7018n"
      },
      "execution_count": null,
      "outputs": []
    },
    {
      "cell_type": "markdown",
      "source": [
        "* Deutsche Daten verstehen? Das geht mit der Zusatz-Bibliothek ```locale```. Mehr hier: https://www.digitalocean.com/community/tutorials/python-string-to-datetime-strptime"
      ],
      "metadata": {
        "id": "iUJv4uaFKUPe"
      }
    },
    {
      "cell_type": "markdown",
      "source": [
        "## Die Aufgabe: \n",
        "\n",
        "Jetzt hätte ich gern ein funktionsfähiges Programm, das: \n",
        "- ein Datum einliest (der Code von oben)\n",
        "- den String in ein Datums-Objekt umwandelt\n",
        "- prüft, ob das eingegebene Datum schon war (vor heute liegt) oder erst noch ist (nach heute liegt)\n",
        "\n",
        "Wichtiges Zusatzwissen: Das heutige Datum kriegt man über die Bibliotheks-Funktion ```date.today()```!"
      ],
      "metadata": {
        "id": "75h34iapLDdy"
      }
    },
    {
      "cell_type": "code",
      "source": [
        "# Hier passiert die Magie... \n",
        "\n",
        "\n",
        "# hier passiert die Arbeit...\n",
        "\n",
        "if (irgendwas):\n",
        "  print(\"Das ist ein Datum in der Zukunft!\")\n",
        "else:\n",
        "  print(\"Das Datum war schon.\")\n",
        "  if (nochirgendwas):\n",
        "    print(\"Und zwar heute.\")"
      ],
      "metadata": {
        "id": "dLFNdJAaNj-u"
      },
      "execution_count": null,
      "outputs": []
    }
  ]
}