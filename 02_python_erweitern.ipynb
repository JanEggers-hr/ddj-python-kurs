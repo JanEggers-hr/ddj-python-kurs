{
  "cells": [
    {
      "cell_type": "markdown",
      "metadata": {
        "colab_type": "text",
        "id": "view-in-github"
      },
      "source": [
        "<a href=\"https://colab.research.google.com/github/JanEggers-hr/ddj-python-kurs/blob/main/ddj_python_kurs_uebung02.ipynb\" target=\"_parent\"><img src=\"https://colab.research.google.com/assets/colab-badge.svg\" alt=\"Open In Colab\"/></a>"
      ]
    },
    {
      "cell_type": "markdown",
      "metadata": {
        "id": "cBXbBXDpvUNy"
      },
      "source": [
        "# Übung 02: Python erweitern \n",
        "\n",
        "Was wir bisher gelernt haben:\n",
        "\n",
        "**Jede wirklich schwere Programmier-Aufgabe ist mit hoher Wahrscheinlichkeit schon mal irgendwo gelöst.**   \n",
        "\n",
        "Python hat einen Mechanismus, um die Programmier-Lösungen anderer Menschen einzubinden: Bibliotheken. \n",
        "\n",
        "# Nehmen wir zum Beispiel das Problem, mit einem Datum umzugehen - und zwei Daten zu vergleichen. "
      ]
    },
    {
      "cell_type": "markdown",
      "metadata": {
        "id": "1hRosREoIaDI"
      },
      "source": [
        "Das folgende Programm soll ein Datum abfragen - in einer bestimmten Form. Wie überprüfen wir, ob es ein Datum ist?\n",
        "\n",
        "Das hier funktioniert nicht, weil die Funktion ```erlaubt(d)``` nicht herausfindet, ob etwas ein erlaubtes Datum ist, sondern immer False zurückgibt - die Schleife läuft, bis wir sie abbrechen. "
      ]
    },
    {
      "cell_type": "code",
      "execution_count": null,
      "metadata": {
        "id": "MkxnARY5znFR"
      },
      "outputs": [],
      "source": [
        "# Das hier funktioniert natürlich nicht. \n",
        "def erlaubt(d):\n",
        "  istDatum = False\n",
        "  return(istDatum)\n",
        "\n",
        "\n",
        "text = \"\"\n",
        "while text != \"zulässig\":\n",
        "  datum = input(\"Gib ein Datum ein (in der Form 2023-03-28) \")\n",
        "  if (erlaubt(datum)):\n",
        "    text = \"zulässig\"\n",
        "  else:\n",
        "    text = \"nicht zulässig\"\n",
        "  print(datum,\" ist als Datum \",text)"
      ]
    },
    {
      "cell_type": "markdown",
      "metadata": {
        "id": "XGq93v7C0xyc"
      },
      "source": [
        "## Python lernt Daten\n",
        "\n",
        "Jetzt rüsten wir unser Python-Programm auf - mit der Bibliothek ```datetime```. Die enthält eine Funktion namens ```strptime()``` (\"StringParseTime\"), die einen String - eine Zeichenkette - in ein datetime-Objekt umwandelt. (Was Objekte sind? Mehr dazu ein andermal. Hier stellen wir es uns wie eine Schuhschachtel für einen bestimmten Typ Schuhe vor.)  "
      ]
    },
    {
      "cell_type": "code",
      "execution_count": null,
      "metadata": {
        "id": "DM-jynl7018n"
      },
      "outputs": [],
      "source": [
        "# datetime-Objekte importieren: \n",
        "# hier fehlt was!\n",
        "\n",
        "# Jetzt gibt es zwei neue Objekte: \n",
        "# datetime - ein \"Schuhkarton\" für Datum und Zeitangabe\n",
        "# date - ein Schuhkarton nur für das Datum\n",
        "\n",
        "\n",
        "\n",
        "def erlaubt(d):\n",
        "  try:\n",
        "    istDatum = datetime.strptime(d,\"%Y-%m-%d\")\n",
        "    # Gib ein Datums-Objekt zurück\n",
        "    return(istDatum.date())\n",
        "  except: \n",
        "    return(False)\n",
        "\n",
        "print(erlaubt(\"2022-03-05\"))\n",
        "print(erlaubt(\"12.03.2023\"))\n",
        "print(erlaubt(\"Horst\"))\n"
      ]
    },
    {
      "cell_type": "markdown",
      "metadata": {
        "id": "iUJv4uaFKUPe"
      },
      "source": [
        "* Deutsche Daten verstehen? Das geht mit der Zusatz-Bibliothek ```locale```. Mehr hier: https://www.digitalocean.com/community/tutorials/python-string-to-datetime-strptime"
      ]
    },
    {
      "cell_type": "markdown",
      "metadata": {
        "id": "75h34iapLDdy"
      },
      "source": [
        "## Die Aufgabe: \n",
        "\n",
        "Jetzt hätte ich gern ein funktionsfähiges Programm, das: \n",
        "- ein Datum einliest (der Code von oben)\n",
        "- den String in ein Datums-Objekt umwandelt\n",
        "- prüft, ob das eingegebene Datum schon war (vor heute liegt) oder erst noch ist (nach heute liegt)\n",
        "\n",
        "Wichtiges Zusatzwissen: Das heutige Datum kriegt man über die Bibliotheks-Funktion ```date.today()```!"
      ]
    },
    {
      "cell_type": "code",
      "execution_count": null,
      "metadata": {
        "id": "dLFNdJAaNj-u"
      },
      "outputs": [],
      "source": [
        "# Hier passiert die Magie... \n",
        "\n",
        "\n",
        "# hier passiert die Arbeit...\n",
        "\n",
        "if (irgendwas):\n",
        "  print(\"Das ist ein Datum in der Zukunft!\")\n",
        "else:\n",
        "  print(\"Das Datum war schon.\")\n",
        "  if (nochirgendwas):\n",
        "    print(\"Und zwar heute.\")"
      ]
    },
    {
      "cell_type": "markdown",
      "metadata": {},
      "source": [
        "## Ein letztes Wort zu Bibliotheken noch...\n",
        "\n",
        "...sie sind nicht immer alle schon auf dem Rechner. \n",
        "\n",
        "In der nächsten Aufgabe wollen wir einzelne PDF-Seiten in ein PDF-Dokument zusammenpacken. Dazu brauchen wir eine Bibliothek namens ```PyPDF2``` - die dein Computer noch nicht kennt.  \n",
        "\n",
        "Der Code hier unten ist lauffähig - aber die Bibliothek fehlt unserem Computer noch. Wir müssen sie erst nachrüsten - dazu müssen wir ihm einen Befehl über die ***Kommandozeile*** geben: \n",
        "\n",
        "```\n",
        "pip install pypdf2\n",
        "```"
      ]
    },
    {
      "cell_type": "code",
      "execution_count": 3,
      "metadata": {},
      "outputs": [
        {
          "name": "stdout",
          "output_type": "stream",
          "text": [
            "Merged PDF saved as 'rki_protolle_merged.pdf'.\n"
          ]
        }
      ],
      "source": [
        "import os\n",
        "from PyPDF2 import PdfReader, PdfWriter\n",
        "\n",
        "\n",
        "def merge_pdfs_with_title_pages(folder_path, output_filename='merged_with_titles_A4.pdf'):\n",
        "    pdf_writer = PdfWriter()\n",
        "\n",
        "    # Sort files based on the three leftmost characters before the file extension\n",
        "    pdf_files = sorted(filter(lambda x: x.endswith('.pdf'), os.listdir(folder_path)),\n",
        "                       key=lambda x: x[0:3])\n",
        "\n",
        "    for item in pdf_files:\n",
        "        \n",
        "        # Now add the actual PDF\n",
        "        pdf_path = os.path.join(folder_path, item)\n",
        "        pdf_reader = PdfReader(pdf_path)\n",
        "        for page_num in range(len(pdf_reader.pages)):\n",
        "            page = pdf_reader.pages[page_num]\n",
        "            pdf_writer.add_page(page)\n",
        "    \n",
        "    output_filename = \"rki_protolle_merged.pdf\"\n",
        "\n",
        "    # Save the merged PDF with title pages in A4 size\n",
        "    with open(output_filename, 'wb') as out:\n",
        "        pdf_writer.write(out)\n",
        "\n",
        "    print(f\"Merged PDF saved as '{output_filename}'.\")\n",
        "\n",
        "# Beispiel-Verwendung\n",
        "folder_path = './daten/rki_pdf'  # ggf. anpassen\n",
        "merge_pdfs_with_title_pages(folder_path)\n"
      ]
    },
    {
      "cell_type": "markdown",
      "metadata": {},
      "source": [
        "Für die Supatopcheckerbunnies: \n",
        "\n",
        "Da wir die Python-Umgebung ```miniconda``` auf dem Rechner haben, könnten wir statt pip auch das Paketmanager-Programm ```conda``` nutzen - das ist schneller und vermeidet einige bestimmte Probleme. Aber: Vieles ist für conda nicht ohne weiteres verfügbar - Pip bedient sich bei einer großen, weltweiten Code-Bibliothek namens [PyPI](https://pypi.org/) im Internet, und da gibt es praktisch alles - zum Beispiel: [Datawrapper](https://pypi.org/project/datawrapper/)!\n",
        "\n",
        "Weshalb dann überhaupt den Hassel mit conda? Weil es eine bequeme Art ist, verschiedene Versionen ein und derselben Code-Bibliothek auf dem Computer zu haben, und das ist später (leider) oft wichtig, um anderer Leute Programme auszuführen. "
      ]
    }
  ],
  "metadata": {
    "colab": {
      "authorship_tag": "ABX9TyNv8KOM1GzALivXRyvdDKuj",
      "include_colab_link": true,
      "provenance": []
    },
    "kernelspec": {
      "display_name": "Python 3",
      "name": "python3"
    },
    "language_info": {
      "codemirror_mode": {
        "name": "ipython",
        "version": 3
      },
      "file_extension": ".py",
      "mimetype": "text/x-python",
      "name": "python",
      "nbconvert_exporter": "python",
      "pygments_lexer": "ipython3",
      "version": "3.10.14"
    }
  },
  "nbformat": 4,
  "nbformat_minor": 0
}
