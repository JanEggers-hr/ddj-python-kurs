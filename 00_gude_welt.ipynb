{
  "cells": [
    {
      "cell_type": "markdown",
      "metadata": {
        "colab_type": "text",
        "id": "view-in-github"
      },
      "source": [
        "<a href=\"https://colab.research.google.com/github/JanEggers-hr/ddj-python-kurs/blob/main/gude_welt.ipynb\" target=\"_parent\"><img src=\"https://colab.research.google.com/assets/colab-badge.svg\" alt=\"Open In Colab\"/></a>"
      ]
    },
    {
      "cell_type": "markdown",
      "metadata": {
        "id": "JU48QhXoFEVm"
      },
      "source": [
        "# gude_welt.ipynb\n",
        "Ein erstes Python-Skript.\n",
        "\n",
        "Für das Seminar \"Datenjournalismus\" im Sommersemester 2024\n",
        "Hochschule Mainz, Studiengang Digital Media\n",
        "\n",
        "CC-BY Jan Eggers"
      ]
    },
    {
      "cell_type": "markdown",
      "metadata": {
        "id": "aAPy0qXrFEVn"
      },
      "source": [
        "## Was man über \"Notebooks\" wissen muss\n",
        "- Notebooks sind eine Mischung aus ausführbarem Code und Textblöcken.\n",
        "- Den Text gibt man als [\"Markdown\"](https://github.com/adam-p/markdown-here/wiki/Markdown-Cheatsheet) ein - mit einfachen Steuerbefehlen wie **\\*\\*fett\\*\\*** oder **\\# Überschrift**. \n",
        "- Wenn man einen Codeblock ausführt, gibt er das Ergebnis unter dem Block aus - wie es Python auf der Kommandozeile auch tun würde.\n",
        "- Man kann die Codeblöcke mit Shift+Enter ausführen und zum nächsten springen.\n",
        "\n",
        "Jetzt einfach mal ausprobieren: \n",
        "*Kursiv* und **fett** \n"
      ]
    },
    {
      "cell_type": "code",
      "execution_count": null,
      "metadata": {
        "id": "FDJJniVoFEVo"
      },
      "outputs": [],
      "source": [
        "1+1"
      ]
    },
    {
      "cell_type": "markdown",
      "metadata": {
        "id": "8NMbtxDSFEVo"
      },
      "source": [
        "Und die traditionelle Begrüßung in einer neuen Programmiersprache: "
      ]
    },
    {
      "cell_type": "code",
      "execution_count": null,
      "metadata": {
        "id": "Tj4VOlE0FEVp"
      },
      "outputs": [],
      "source": [
        "print(\"Gude Welt!\")"
      ]
    },
    {
      "cell_type": "markdown",
      "metadata": {},
      "source": [
        "Und was tut das hier?"
      ]
    },
    {
      "cell_type": "code",
      "execution_count": null,
      "metadata": {},
      "outputs": [],
      "source": [
        "def rot13(text):\n",
        "    d = {}\n",
        "    for ascii_code in (65, 97):\n",
        "        for alphabet_index in range(26):\n",
        "            d[chr(ascii_code + alphabet_index)] = \\\n",
        "                        chr(ascii_code + (alphabet_index + 13) % 26)\n",
        "    return ''.join([d.get(letter, letter) for letter in text])"
      ]
    },
    {
      "cell_type": "markdown",
      "metadata": {},
      "source": [
        "Wenn wir diesen Block ausführen, passiert... nichts. Erst mal! Wir haben dem Computer eine so genannte Funktion definiert - ein Stück Computer-Code, den wir später aufrufen können, um eine Aufgabe immer wieder zu erledigen: Wir haben uns gewissermaßen ein Werkzeug gemacht. \n",
        "\n",
        "Unser Werkzeug heißt ```rot13()```. Wir setzen es ein, indem wir seinen Namen schreiben und in Klammer das, worauf wir das Werkzeug anwenden wollen. "
      ]
    },
    {
      "cell_type": "code",
      "execution_count": null,
      "metadata": {},
      "outputs": [],
      "source": [
        "print(rot13(\"Thqr! Qvrfrf Cebtenzz shaxgvbavreg haq irefpuyüffryg/ragfpuyüffryg qra Grkg!\"))\n",
        "text = input(\"Probier es aus: \")\n",
        "print(rot13(text))\n"
      ]
    },
    {
      "cell_type": "markdown",
      "metadata": {
        "id": "Fx2I21gkFEVp"
      },
      "source": [
        "\n",
        "\n",
        "## Vorbereitung für den nächsten Schritt: Bibliotheken laden\n",
        "\n",
        "Funktionen - die vorbereiteten Werkzeuge sind ungeheuer praktisch: \n",
        "- Wenn ich dieselbe Aufgabe immer wieder erledigen will, muss ich den Code nur an einer Stelle schreiben - das vereinfacht Änderungen ungemein. \n",
        "- Eigentlich sind alle Probleme schon mal von irgendwem gelöst worden. Andere Programmierer haben ihre Code-Lösungen, ihre Funktionen, in Zusatzpakete geschnürt - Bibliotheken. \n",
        "\n",
        "Zusatzpakete statten Python zum Beispiel mit Fähigkeiten aus, die man zum Umgang mit Daten braucht: Daten aus einer Tabellen-Datei einlesen zum Beispiel, und damit rechnen. "
      ]
    },
    {
      "cell_type": "code",
      "execution_count": null,
      "metadata": {
        "id": "rLmtUCDnFEVp"
      },
      "outputs": [],
      "source": [
        "import pandas as pd"
      ]
    },
    {
      "cell_type": "markdown",
      "metadata": {
        "id": "LWj0_AQkFEVq"
      },
      "source": [
        "Den obigen Textblock ausgeführt - und nichts ist passiert? Dann hat alles geklappt - und wir können loslegen. \n",
        "\n",
        "## Teil 1: CSV-Datei einlesen\n",
        "Wir lesen die CSV-Datei `hessen_gemeinden_ags.csv` in eine neue Variable namens plz_df und schauen sie uns danach kurz an.\n",
        "\n",
        "Aber finden wir sie überhaupt? \n",
        "\n",
        "Nach Dateien müssen wir das Betriebssystem unseres Computers fragen - mit der Code-Bibliothek ```os```."
      ]
    },
    {
      "cell_type": "code",
      "execution_count": null,
      "metadata": {},
      "outputs": [],
      "source": [
        "import os\n",
        "\n",
        "# Das derzeitige Verzeichnis - das Arbeitsverzeichnis - ist auf den \n",
        "# meisten Computersystemen über den Namen '.' erreichbar. \n",
        "if 'hessen_gemeinden_ags.csv' in os.listdir('.'):\n",
        "    print(\"Datei 'hessen_gemeinden_ags.csv' gefunden!\")\n",
        "else:\n",
        "    print(\"Datei 'hessen_gemeinden_ags.csv' nicht gefunden.\")\n",
        "    print(os.listdir('.'))\n"
      ]
    },
    {
      "cell_type": "markdown",
      "metadata": {},
      "source": [
        "Warum findet der Computer die Datei nicht? Weil sie im Unterordner ```datei``` steckt. Also müssen wir das Arbeitsverzeichnis erst auf ```./daten``` ändern"
      ]
    },
    {
      "cell_type": "code",
      "execution_count": null,
      "metadata": {},
      "outputs": [],
      "source": [
        "\n",
        "print(\"Wir sind im Verzeichnis\",os.path.dirname(os.path.abspath('.')))\n",
        "    \n",
        "# Jetzt ins Unterverzeichnis \n",
        "os.chdir('./daten')\n",
        "print(os.listdir('.'))"
      ]
    },
    {
      "cell_type": "markdown",
      "metadata": {},
      "source": [
        "## Jetzt: unsere Datei lesen. \n",
        "\n",
        "```hessen_gemeinden_ags.csv``` ist ein gutartiges CSV: \n",
        "\n",
        "- Die Werte sind wiklich kommasepariert. \n",
        "- Der Zeichensatz der Datei ist UTF-8 - im Universal-Format gibt es keine Probleme mit Umlauten etc. \n",
        "\n",
        "Dass unser CSV nicht \"comma-separated\" ist, sondern \"Semikolon-separated\", müssen wir dem Befehl über den Zusatz `delimiter=\";\"` mitgeben."
      ]
    },
    {
      "cell_type": "code",
      "execution_count": null,
      "metadata": {
        "id": "fIfZbZJ9FEVq"
      },
      "outputs": [],
      "source": [
        "plz_df = pd.read_csv(\"hessen_gemeinden_ags.csv\")\n",
        "plz_df.head(5) #liest die ersten fünf Zeilen"
      ]
    },
    {
      "cell_type": "markdown",
      "metadata": {
        "id": "K2UqOaAUFEVr"
      },
      "source": [
        "Prima! Dann könnten wir doch auch gleich die Datei ```de_kreise_pop.csv``` einlesen, oder?"
      ]
    },
    {
      "cell_type": "code",
      "execution_count": null,
      "metadata": {},
      "outputs": [],
      "source": [
        "plz_df = pd.read_csv(\"de_kreise_pop.csv\")\n",
        "plz_df.head(5) #liest die ersten fünf Zeilen"
      ]
    },
    {
      "cell_type": "markdown",
      "metadata": {},
      "source": [
        "**Okay - was tun wir als Nächstes?**"
      ]
    }
  ],
  "metadata": {
    "colab": {
      "include_colab_link": true,
      "provenance": []
    },
    "kernelspec": {
      "display_name": "Python 3 (ipykernel)",
      "language": "python",
      "name": "python3"
    },
    "language_info": {
      "codemirror_mode": {
        "name": "ipython",
        "version": 3
      },
      "file_extension": ".py",
      "mimetype": "text/x-python",
      "name": "python",
      "nbconvert_exporter": "python",
      "pygments_lexer": "ipython3",
      "version": "3.10.14"
    }
  },
  "nbformat": 4,
  "nbformat_minor": 0
}
